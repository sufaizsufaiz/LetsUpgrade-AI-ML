{
 "cells": [
  {
   "cell_type": "code",
   "execution_count": 9,
   "metadata": {},
   "outputs": [
    {
     "name": "stdout",
     "output_type": "stream",
     "text": [
      "here are the first 20 odd prime natural numbers\n",
      "3 5 7 11 13 17 19 23 29 31 37 41 43 47 53 59 61 67 71 73 "
     ]
    }
   ],
   "source": [
    "#Q1 programme to find the first 20 non even prime natural numbers\n",
    "\n",
    "lst = range(1,20*10)\n",
    "prime_lst = []\n",
    "for num in lst:\n",
    "    if num > 2 and len(prime_lst) <= 20-1:\n",
    "        for i in range(2, num):\n",
    "            if (num % i) == 0:\n",
    "                break\n",
    "        else:\n",
    "            prime_lst.append(num)\n",
    "            \n",
    "print(\"here are the first 20 odd prime natural numbers\")\n",
    "for x in prime_lst:\n",
    "    print(x, end = \" \")"
   ]
  },
  {
   "cell_type": "code",
   "execution_count": 11,
   "metadata": {},
   "outputs": [
    {
     "name": "stdout",
     "output_type": "stream",
     "text": [
      "Sufaiz\n",
      "salman\n",
      "0\n",
      "b'SUFAIZ'\n",
      "True\n",
      "True\n",
      "False\n",
      "False\n",
      "True\n",
      "True\n",
      "False\n",
      "sufaiz\n",
      "SUFAIZ\n",
      "SUFAIZ\n",
      "SUFAIZ\n"
     ]
    }
   ],
   "source": [
    "#Q2 15 string functions\n",
    "s1 = \"SUFAIZ\"\n",
    "s2 = \"salman\"\n",
    "\n",
    "#1 capitalize() = Converts the first character to upper case\n",
    "print(s1.capitalize())\n",
    "\n",
    "#2 casefold() = Converts string into lower case\n",
    "print(s2.casefold())\n",
    "\n",
    "#3 count() = Returns the number of times a specified value occurs in a string\n",
    "print(s2.count(\"N\"))\n",
    "\n",
    "#4 encode() = Returns an encoded version of the string\n",
    "print(s1.encode())\n",
    "\n",
    "#5 isalnum() = Returns True if all characters in the string are alphanumeric\n",
    "print(s1.isalnum())\n",
    "\n",
    "#6 isalpha() = Returns True if all characters in the string are in the alphabet\n",
    "print(s1.isalpha())\n",
    "\n",
    "#7 isdecimal() = Returns True if all characters in the string are decimals\n",
    "print(s1.isdecimal())\n",
    "\n",
    "#8 isdigit() = Returns True if all characters in the string are digits\n",
    "print(s1.isdigit())\n",
    "\n",
    "#9 islower()\tReturns True if all characters in the string are lower case\n",
    "print(s2.islower())\n",
    "\n",
    "#10 isprintable()\tReturns True if all characters in the string are printable\n",
    "print(s1.isprintable())\n",
    "\n",
    "#11 isupper() = Returns True if all characters in the string are upper case\n",
    "print(s2.isupper())\n",
    "\n",
    "#12 lower() = Converts a string into lower case\n",
    "print(s1.lower())\n",
    "\n",
    "#13 upper() = Converts a string into upper case\n",
    "print(s1.upper())\n",
    "\n",
    "#14 ljust() = Returns a left justified version of the string\n",
    "print(s1.ljust(5))\n",
    "\n",
    "#15 rjust() = Returns a right justified version of the string\n",
    "print(s1.rjust(5))"
   ]
  },
  {
   "cell_type": "code",
   "execution_count": 1,
   "metadata": {},
   "outputs": [
    {
     "name": "stdout",
     "output_type": "stream",
     "text": [
      "Enter the first string = madam\n",
      "Enter the second string = teacher\n",
      "Entered string is niether an anagram nor a palindrom\n"
     ]
    }
   ],
   "source": [
    "#Q3 to check palindrom and anagram\n",
    "\n",
    "s1 = str(input(\"Enter the first string = \"))\n",
    "s2 = str(input(\"Enter the second string = \"))\n",
    "\n",
    "if sorted(s1) == sorted(s2):\n",
    "    print(\"Entered string is an anagram\")\n",
    "    if s1 == s2[::-1]:\n",
    "        print(\"Entered string is a palindrom\")\n",
    "        \n",
    "else:\n",
    "    print(\"Entered string is niether an anagram nor a palindrom\")"
   ]
  },
  {
   "cell_type": "code",
   "execution_count": 2,
   "metadata": {},
   "outputs": [
    {
     "name": "stdout",
     "output_type": "stream",
     "text": [
      "Enter the stringDULQUER SALMAN @ pytHON\n",
      "dulquersalmanpython"
     ]
    }
   ],
   "source": [
    "#4  user defined function that removes all the additional characters from the string and convert it finally to lower case using built-in lower()\n",
    "\n",
    "s = str(input(\"Enter the string\"))\n",
    "\n",
    "for i in s:\n",
    "    if i.isalnum():\n",
    "        print(i.lower(),end=\"\")"
   ]
  },
  {
   "cell_type": "code",
   "execution_count": null,
   "metadata": {},
   "outputs": [],
   "source": []
  }
 ],
 "metadata": {
  "kernelspec": {
   "display_name": "Python 3",
   "language": "python",
   "name": "python3"
  },
  "language_info": {
   "codemirror_mode": {
    "name": "ipython",
    "version": 3
   },
   "file_extension": ".py",
   "mimetype": "text/x-python",
   "name": "python",
   "nbconvert_exporter": "python",
   "pygments_lexer": "ipython3",
   "version": "3.7.6"
  }
 },
 "nbformat": 4,
 "nbformat_minor": 4
}
