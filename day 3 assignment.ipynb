{
 "cells": [
  {
   "cell_type": "code",
   "execution_count": 1,
   "metadata": {},
   "outputs": [
    {
     "data": {
      "text/plain": [
       "'C:\\\\Users\\\\SUFAIZ SUFAI'"
      ]
     },
     "execution_count": 1,
     "metadata": {},
     "output_type": "execute_result"
    }
   ],
   "source": [
    "#Q1\n",
    "\n",
    "import os\n",
    "os.getcwd()"
   ]
  },
  {
   "cell_type": "code",
   "execution_count": 2,
   "metadata": {},
   "outputs": [
    {
     "name": "stdout",
     "output_type": "stream",
     "text": [
      "enter the real part of complex1 =5\n",
      "enter the imaginary part of complex1 =2\n",
      "enter the real part of complex2 =3\n",
      "enter the imaginary part of complex2 =7\n",
      "(2-5j)\n"
     ]
    }
   ],
   "source": [
    "#Q1 subtraction of two complex numbers\n",
    "\n",
    "a = float(input(\"enter the real part of complex1 =\"))\n",
    "b = float(input(\"enter the imaginary part of complex1 =\"))\n",
    "complex1 = complex(a,b)\n",
    "\n",
    "x = float(input(\"enter the real part of complex2 =\"))\n",
    "y = float(input(\"enter the imaginary part of complex2 =\"))\n",
    "complex2 = complex(x,y)\n",
    "\n",
    "print(complex1 - complex2)\n",
    "\n",
    "\n",
    "\n"
   ]
  },
  {
   "cell_type": "code",
   "execution_count": 3,
   "metadata": {},
   "outputs": [
    {
     "name": "stdout",
     "output_type": "stream",
     "text": [
      "enter the number =900\n",
      "5.477225575051661\n"
     ]
    }
   ],
   "source": [
    "#Q2 fourth root of a number\n",
    "\n",
    "a = float(input(\"enter the number =\"))\n",
    "res = a**0.25\n",
    "print(res)"
   ]
  },
  {
   "cell_type": "code",
   "execution_count": 5,
   "metadata": {},
   "outputs": [
    {
     "name": "stdout",
     "output_type": "stream",
     "text": [
      "enter the first number =56\n",
      "enter the second number =98\n",
      "before swapping the numbers are\n",
      "56.0\n",
      "98.0\n",
      "after swapping the numbers are\n",
      "98.0\n",
      "56.0\n"
     ]
    }
   ],
   "source": [
    "#Q3 swap two numbers in python with a help of a temporary variable\n",
    "\n",
    "a = float(input(\"enter the first number =\"))\n",
    "b = float(input(\"enter the second number =\"))\n",
    "print(\"before swapping the numbers are\")\n",
    "print(a)\n",
    "print(b)\n",
    "\n",
    "temp = a\n",
    "a = b\n",
    "b = temp\n",
    "print(\"after swapping the numbers are\")\n",
    "print(a)\n",
    "print(b)\n",
    "\n"
   ]
  },
  {
   "cell_type": "code",
   "execution_count": 6,
   "metadata": {},
   "outputs": [
    {
     "name": "stdout",
     "output_type": "stream",
     "text": [
      "enter the first number =67\n",
      "enter the second number =54\n",
      "before swapping the numbers are\n",
      "67.0\n",
      "54.0\n",
      "after swapping the numbers are\n",
      "54.0\n",
      "67.0\n"
     ]
    }
   ],
   "source": [
    "#Q4 swap two numbers without using a temperory variable\n",
    "\n",
    "a = float(input(\"enter the first number =\"))\n",
    "b = float(input(\"enter the second number =\"))\n",
    "print(\"before swapping the numbers are\")\n",
    "print(a)\n",
    "print(b)\n",
    "\n",
    "print(\"after swapping the numbers are\")\n",
    "a,b = b,a\n",
    "print(a)\n",
    "print(b)\n",
    "\n"
   ]
  },
  {
   "cell_type": "code",
   "execution_count": 7,
   "metadata": {},
   "outputs": [
    {
     "name": "stdout",
     "output_type": "stream",
     "text": [
      "enter the temperature in farenheit =32\n",
      "the temperature in celcius is = 0.0\n",
      "the temperature in kelvin is = 273.0\n"
     ]
    }
   ],
   "source": [
    "#Q5 to convert farenheit to celcius and kelvin\n",
    "\n",
    "F = float(input(\"enter the temperature in farenheit =\"))\n",
    "C = (F-32)*(5/9)\n",
    "print(\"the temperature in celcius is =\",C)\n",
    "K = C+273\n",
    "print(\"the temperature in kelvin is =\",K)\n",
    "\n"
   ]
  },
  {
   "cell_type": "markdown",
   "metadata": {},
   "source": []
  },
  {
   "cell_type": "code",
   "execution_count": 10,
   "metadata": {},
   "outputs": [
    {
     "name": "stdout",
     "output_type": "stream",
     "text": [
      "<class 'int'>\n",
      "<class 'float'>\n",
      "<class 'complex'>\n",
      "<class 'str'>\n",
      "<class 'bool'>\n"
     ]
    }
   ],
   "source": [
    "#Q6 demonstrate all the variables in python using type() function\n",
    "\n",
    "a = 2\n",
    "print(type(a))\n",
    "\n",
    "b = 5.7\n",
    "print(type(b))\n",
    "\n",
    "c = 5-2j\n",
    "print(type(c))\n",
    "\n",
    "d = \"sufaiz\"\n",
    "print(type(d))\n",
    "\n",
    "e = True\n",
    "print(type(e))\n",
    "\n",
    "\n",
    "\n",
    "\n",
    "\n"
   ]
  },
  {
   "cell_type": "markdown",
   "metadata": {},
   "source": [
    "# steps to create and upload github assignments\n",
    "\n",
    "CREATING REPOSITARY\n",
    "\n",
    "go to github.com create github account click on new in repositary give name as \"LetsUpgrade AI/ML\" give description as Assignments and create the repositary\n",
    "\n",
    "SUBMITTING ASSIGNMENT\n",
    "\n",
    "upload the assignment in \"LetsUpgrade AI/ML\" github repositary by keeping the assignment in a folder of respective dates copy the link of the assignment and check wheather it is public or private. after the assignment is public paste the link in google form with appropriate details and submit it\n",
    "\n",
    "\n"
   ]
  }
 ],
 "metadata": {
  "kernelspec": {
   "display_name": "Python 3",
   "language": "python",
   "name": "python3"
  },
  "language_info": {
   "codemirror_mode": {
    "name": "ipython",
    "version": 3
   },
   "file_extension": ".py",
   "mimetype": "text/x-python",
   "name": "python",
   "nbconvert_exporter": "python",
   "pygments_lexer": "ipython3",
   "version": "3.7.6"
  }
 },
 "nbformat": 4,
 "nbformat_minor": 4
}
