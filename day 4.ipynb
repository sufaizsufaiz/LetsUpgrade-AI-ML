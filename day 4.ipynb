{
 "cells": [
  {
   "cell_type": "code",
   "execution_count": 1,
   "metadata": {},
   "outputs": [
    {
     "name": "stdout",
     "output_type": "stream",
     "text": [
      "enter the real part of complex no 1 =2\n",
      "enter the imaginary part of complex no 1 =7\n",
      "enter the real part of complex no 2 =1\n",
      "enter the imaginary part of complex no 2 =3\n",
      "addition of complex no 1 and 2 is = (3+10j)\n",
      "subraction of comlex no 1 and 2 is = (1+4j)\n",
      "multiplication of complex no 1 and 2 is = (-19+13j)\n",
      "division of complex no 1 and 2 is = (2.3+0.09999999999999991j)\n"
     ]
    }
   ],
   "source": [
    "#Q1 the operations on complex numbers\n",
    "\n",
    "a = float(input(\"enter the real part of complex no 1 =\"))\n",
    "b = float(input(\"enter the imaginary part of complex no 1 =\"))\n",
    "c1 = complex(a,b)\n",
    "\n",
    "x = float(input(\"enter the real part of complex no 2 =\"))\n",
    "y = float(input(\"enter the imaginary part of complex no 2 =\"))\n",
    "c2 = complex(x,y)\n",
    "\n",
    "#addition operation \n",
    " \n",
    "sum = c1 + c2\n",
    "print(\"addition of complex no 1 and 2 is =\",sum)\n",
    "\n",
    "#subtraction operation\n",
    "\n",
    "subtract = c1 - c2\n",
    "print(\"subraction of comlex no 1 and 2 is =\",subtract)\n",
    "\n",
    "#multiplication operation\n",
    "\n",
    "mult = c1 * c2\n",
    "print(\"multiplication of complex no 1 and 2 is =\",mult)\n",
    "\n",
    "#division operation\n",
    "\n",
    "div = c1 / c2\n",
    "print(\"division of complex no 1 and 2 is =\",div)\n",
    "\n",
    "#floor(//) and modulus(%) operators cannot be used for complex no here"
   ]
  },
  {
   "cell_type": "markdown",
   "metadata": {},
   "source": [
    "# Q2 range() function\n",
    "\n",
    "range () is a built-in function of Python. range() function lists the numbers in a specified range.the syntax for range() function has a start value,stop value and an incremental value.if not specified the start value it assumes the start value as 0."
   ]
  },
  {
   "cell_type": "code",
   "execution_count": 2,
   "metadata": {},
   "outputs": [
    {
     "name": "stdout",
     "output_type": "stream",
     "text": [
      "1\n",
      "11\n",
      "21\n",
      "31\n",
      "41\n",
      "51\n",
      "61\n",
      "71\n",
      "81\n",
      "91\n",
      "101\n",
      "111\n",
      "121\n",
      "131\n",
      "141\n",
      "151\n",
      "161\n",
      "171\n",
      "181\n",
      "191\n",
      "201\n",
      "211\n",
      "221\n",
      "231\n",
      "241\n",
      "251\n",
      "261\n",
      "271\n",
      "281\n",
      "291\n",
      "301\n",
      "311\n",
      "321\n",
      "331\n",
      "341\n",
      "351\n",
      "361\n",
      "371\n",
      "381\n",
      "391\n",
      "401\n",
      "411\n",
      "421\n",
      "431\n",
      "441\n",
      "451\n",
      "461\n",
      "471\n",
      "481\n",
      "491\n",
      "501\n",
      "511\n",
      "521\n",
      "531\n",
      "541\n",
      "551\n",
      "561\n",
      "571\n",
      "581\n",
      "591\n",
      "601\n",
      "611\n",
      "621\n",
      "631\n",
      "641\n",
      "651\n",
      "661\n",
      "671\n",
      "681\n",
      "691\n",
      "701\n",
      "711\n",
      "721\n",
      "731\n",
      "741\n",
      "751\n",
      "761\n",
      "771\n",
      "781\n",
      "791\n",
      "801\n",
      "811\n",
      "821\n",
      "831\n",
      "841\n",
      "851\n",
      "861\n",
      "871\n",
      "881\n",
      "891\n",
      "901\n",
      "911\n",
      "921\n",
      "931\n",
      "941\n",
      "951\n",
      "961\n",
      "971\n",
      "981\n",
      "991\n"
     ]
    }
   ],
   "source": [
    "for x in range(1,1000,10):\n",
    "    print(x)\n",
    "    \n",
    "    "
   ]
  },
  {
   "cell_type": "code",
   "execution_count": 3,
   "metadata": {},
   "outputs": [
    {
     "name": "stdout",
     "output_type": "stream",
     "text": [
      "enter the first number =40\n",
      "enter the second number =10\n",
      "multiplication of first and second number is  400.0\n"
     ]
    }
   ],
   "source": [
    "#Q3\n",
    "\n",
    "a = float(input(\"enter the first number =\"))\n",
    "b = float(input(\"enter the second number =\"))\n",
    "\n",
    "if a-b>25:\n",
    "    print(\"multiplication of first and second number is \",a*b)\n",
    "else:\n",
    "    print(\"division of first and second number is \",a/b)\n",
    "\n",
    "    "
   ]
  },
  {
   "cell_type": "code",
   "execution_count": 4,
   "metadata": {},
   "outputs": [
    {
     "name": "stdout",
     "output_type": "stream",
     "text": [
      "square of 10 minus 2 = 98\n",
      "square of 12 minus 2 = 142\n",
      "square of 14 minus 2 = 194\n",
      "square of 16 minus 2 = 254\n",
      "square of 18 minus 2 = 322\n",
      "square of 20 minus 2 = 398\n"
     ]
    }
   ],
   "source": [
    "#Q4\n",
    "\n",
    "arr = [10,11,12,13,14,15,16,17,18,19,20]\n",
    "for i in arr:\n",
    "    if i%2==0:\n",
    "        print(\"square of\",i,\"minus 2 =\",(i**2)-2)\n",
    "        \n"
   ]
  },
  {
   "cell_type": "code",
   "execution_count": 5,
   "metadata": {},
   "outputs": [
    {
     "name": "stdout",
     "output_type": "stream",
     "text": [
      "division of 15 by 2 is greater than 7\n",
      "division of 20 by 2 is greater than 7\n",
      "division of 25 by 2 is greater than 7\n",
      "division of 30 by 2 is greater than 7\n",
      "division of 35 by 2 is greater than 7\n",
      "division of 40 by 2 is greater than 7\n",
      "division of 45 by 2 is greater than 7\n",
      "division of 50 by 2 is greater than 7\n",
      "division of 55 by 2 is greater than 7\n",
      "division of 60 by 2 is greater than 7\n",
      "division of 65 by 2 is greater than 7\n",
      "division of 70 by 2 is greater than 7\n",
      "division of 75 by 2 is greater than 7\n",
      "division of 80 by 2 is greater than 7\n",
      "division of 85 by 2 is greater than 7\n",
      "division of 90 by 2 is greater than 7\n",
      "division of 95 by 2 is greater than 7\n",
      "division of 100 by 2 is greater than 7\n"
     ]
    }
   ],
   "source": [
    "#Q5\n",
    "\n",
    "arr = [5,10,15,20,25,30,35,40,45,50,55,60,65,70,75,80,85,90,95,100]\n",
    "for i in arr:\n",
    "    if i/2 > 7:\n",
    "        print(\"division of\",i,\"by 2 is greater than 7\")\n",
    "        \n",
    "        "
   ]
  },
  {
   "cell_type": "code",
   "execution_count": null,
   "metadata": {},
   "outputs": [],
   "source": []
  }
 ],
 "metadata": {
  "kernelspec": {
   "display_name": "Python 3",
   "language": "python",
   "name": "python3"
  },
  "language_info": {
   "codemirror_mode": {
    "name": "ipython",
    "version": 3
   },
   "file_extension": ".py",
   "mimetype": "text/x-python",
   "name": "python",
   "nbconvert_exporter": "python",
   "pygments_lexer": "ipython3",
   "version": "3.7.6"
  }
 },
 "nbformat": 4,
 "nbformat_minor": 4
}
